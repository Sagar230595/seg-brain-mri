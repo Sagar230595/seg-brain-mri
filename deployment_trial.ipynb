{
  "nbformat": 4,
  "nbformat_minor": 0,
  "metadata": {
    "colab": {
      "provenance": [],
      "machine_shape": "hm"
    },
    "kernelspec": {
      "name": "python3",
      "display_name": "Python 3"
    },
    "language_info": {
      "name": "python"
    },
    "gpuClass": "standard",
    "accelerator": "GPU"
  },
  "cells": [
    {
      "cell_type": "code",
      "source": [
        "# to check if GPU is running or not\n",
        "\n",
        "import tensorflow as tf\n",
        "tf.test.gpu_device_name()"
      ],
      "metadata": {
        "colab": {
          "base_uri": "https://localhost:8080/",
          "height": 36
        },
        "id": "0zRNPvtaRSkn",
        "outputId": "2d2ae224-8658-468c-847f-2b967c76cd48"
      },
      "execution_count": null,
      "outputs": [
        {
          "output_type": "execute_result",
          "data": {
            "text/plain": [
              "'/device:GPU:0'"
            ],
            "application/vnd.google.colaboratory.intrinsic+json": {
              "type": "string"
            }
          },
          "metadata": {},
          "execution_count": 1
        }
      ]
    },
    {
      "cell_type": "code",
      "source": [
        "# download pretrained Unet model.\n",
        "!wget --header=\"Host: doc-0k-b4-docs.googleusercontent.com\" --header=\"User-Agent: Mozilla/5.0 (Windows NT 10.0; Win64; x64) AppleWebKit/537.36 (KHTML, like Gecko) Chrome/107.0.0.0 Safari/537.36\" --header=\"Accept: text/html,application/xhtml+xml,application/xml;q=0.9,image/avif,image/webp,image/apng,*/*;q=0.8,application/signed-exchange;v=b3;q=0.9\" --header=\"Accept-Language: en-US,en;q=0.9\" --header=\"Cookie: AUTH_r6to6l3pe0a27vofps4trt1gjulv2ofi=10615674339421594818|1668607050000|8cu446604j1eis1ldanjddtrn0bjgk3c\" --header=\"Connection: keep-alive\" \"https://doc-0k-b4-docs.googleusercontent.com/docs/securesc/0o7t8q9hhsf6i1d78v26mk840gpemlr3/jqcdj00fq0n9d6cvdph1ngu3meser7eq/1668607200000/10615674339421594818/10615674339421594818/1-raV156DjmwYBBdW7Hvn6PtuD4Suk8iJ?e=download&ax=AEKYgyQnxKVKA1RGOJIjKbQG5xUNBfUALNHW_SqBtz-f-rwTC2Rp28ygarAwOLFyctLic1oy4UuKkt1pwMd6WMCJTGwTW9cVpe4YGStczeWd6QRwP4o_qRkXTMLMmHOIaSEBkKE0A5ayYOLHS7qf-IyNUwoy0R2lUHqr4nzzcSBFt1U6m_W42kR8ROut0aoRWi7yT8Q8wWTliveiyHXqViKg-ZaXzcd0r89GWYOcvSR2WWeHIMluypNmXqRPvS6DwocYqQMMoxCj-2Gi88becn1j9VDzbMKI_aOtvMU7GyRknlQcIzApTrECXCxXlNPgdlD9MgFIhC4yOL5P-LFreYEY3HEOnBlVgsOqPID3nOBLI_goA6XqvFtvpFmRcYCkU2Rdm4HfFlJbIidyioHQ0vQtVDsNe2-ppVjxM_F_XhfNsJjhf4RFkNdSY6eu2hRyHA53ammx5OqCFT69W0B9ybDDB-JMtu6NNnpiNhxRTjmP_Cx-V6qGAyPy-DVJf9R7jcqTq1vUh_epgxI_7h83zNbgwktugsK88R6orPiGsNiIFBzuxmPBBzFInsBerNTJEIhRi20BVOgU7ZYcZgJIdKuI6GpcbiCPkhN2NsTO-ndmYO9uelIKEwNuqTr9ywgNRRFQl3m06xwRUw4f7_hxAupXCsvDO8k-a4OevtSnKnyTP_xcu2_n8Ix77SxCzwgOFhnagGrufrJuWwd7915BN4UUnL4wCId7JUcLxA5Gu_4lfNV10vaAeDMb4fBhefatMXCyEGSUI-VVEZiB7l1LzKuhfeByIzppcmVMOw7aB8bra7WrcHljCpc-xNxqdbivg8fV-u9o11xcI0U16pa1KnikOJZi4Ksd1aRd9Lvf9pB97EpDIqz8T35esFdMb9C_3wOwJw-2PlQ1xA-niTQkPeAr6QLV4ybU2hAcQ_6WzUgBL-dNwumMDJHQ317NdLKSdJKDutcPOK1Xal6q&uuid=318c60e2-f3fe-4d84-94e8-53c50786222e&authuser=2\" -c -O 'my_best_model.epoch13-iou_score0.94.hdf5'"
      ],
      "metadata": {
        "colab": {
          "base_uri": "https://localhost:8080/"
        },
        "id": "Li-vTmbvXAZK",
        "outputId": "4cf8fb73-b5f8-42c7-ee39-e9d0b286d5ad"
      },
      "execution_count": 1,
      "outputs": [
        {
          "output_type": "stream",
          "name": "stdout",
          "text": [
            "--2022-11-16 14:00:57--  https://doc-0k-b4-docs.googleusercontent.com/docs/securesc/0o7t8q9hhsf6i1d78v26mk840gpemlr3/jqcdj00fq0n9d6cvdph1ngu3meser7eq/1668607200000/10615674339421594818/10615674339421594818/1-raV156DjmwYBBdW7Hvn6PtuD4Suk8iJ?e=download&ax=AEKYgyQnxKVKA1RGOJIjKbQG5xUNBfUALNHW_SqBtz-f-rwTC2Rp28ygarAwOLFyctLic1oy4UuKkt1pwMd6WMCJTGwTW9cVpe4YGStczeWd6QRwP4o_qRkXTMLMmHOIaSEBkKE0A5ayYOLHS7qf-IyNUwoy0R2lUHqr4nzzcSBFt1U6m_W42kR8ROut0aoRWi7yT8Q8wWTliveiyHXqViKg-ZaXzcd0r89GWYOcvSR2WWeHIMluypNmXqRPvS6DwocYqQMMoxCj-2Gi88becn1j9VDzbMKI_aOtvMU7GyRknlQcIzApTrECXCxXlNPgdlD9MgFIhC4yOL5P-LFreYEY3HEOnBlVgsOqPID3nOBLI_goA6XqvFtvpFmRcYCkU2Rdm4HfFlJbIidyioHQ0vQtVDsNe2-ppVjxM_F_XhfNsJjhf4RFkNdSY6eu2hRyHA53ammx5OqCFT69W0B9ybDDB-JMtu6NNnpiNhxRTjmP_Cx-V6qGAyPy-DVJf9R7jcqTq1vUh_epgxI_7h83zNbgwktugsK88R6orPiGsNiIFBzuxmPBBzFInsBerNTJEIhRi20BVOgU7ZYcZgJIdKuI6GpcbiCPkhN2NsTO-ndmYO9uelIKEwNuqTr9ywgNRRFQl3m06xwRUw4f7_hxAupXCsvDO8k-a4OevtSnKnyTP_xcu2_n8Ix77SxCzwgOFhnagGrufrJuWwd7915BN4UUnL4wCId7JUcLxA5Gu_4lfNV10vaAeDMb4fBhefatMXCyEGSUI-VVEZiB7l1LzKuhfeByIzppcmVMOw7aB8bra7WrcHljCpc-xNxqdbivg8fV-u9o11xcI0U16pa1KnikOJZi4Ksd1aRd9Lvf9pB97EpDIqz8T35esFdMb9C_3wOwJw-2PlQ1xA-niTQkPeAr6QLV4ybU2hAcQ_6WzUgBL-dNwumMDJHQ317NdLKSdJKDutcPOK1Xal6q&uuid=318c60e2-f3fe-4d84-94e8-53c50786222e&authuser=2\n",
            "Resolving doc-0k-b4-docs.googleusercontent.com (doc-0k-b4-docs.googleusercontent.com)... 74.125.23.132, 2404:6800:4008:c02::84\n",
            "Connecting to doc-0k-b4-docs.googleusercontent.com (doc-0k-b4-docs.googleusercontent.com)|74.125.23.132|:443... connected.\n",
            "HTTP request sent, awaiting response... 200 OK\n",
            "Length: 123893936 (118M) [application/octet-stream]\n",
            "Saving to: ‘my_best_model.epoch13-iou_score0.94.hdf5’\n",
            "\n",
            "my_best_model.epoch 100%[===================>] 118.15M   175MB/s    in 0.7s    \n",
            "\n",
            "2022-11-16 14:00:59 (175 MB/s) - ‘my_best_model.epoch13-iou_score0.94.hdf5’ saved [123893936/123893936]\n",
            "\n"
          ]
        }
      ]
    },
    {
      "cell_type": "code",
      "execution_count": 2,
      "metadata": {
        "colab": {
          "base_uri": "https://localhost:8080/"
        },
        "id": "p3ZQ3CU5Yiy7",
        "outputId": "96241ab9-ec32-4e95-a954-e2d3ed0c5ac7"
      },
      "outputs": [
        {
          "output_type": "stream",
          "name": "stdout",
          "text": [
            "\u001b[K     |████████████████████████████████| 9.2 MB 3.6 MB/s \n",
            "\u001b[K     |████████████████████████████████| 164 kB 62.2 MB/s \n",
            "\u001b[K     |████████████████████████████████| 237 kB 54.7 MB/s \n",
            "\u001b[K     |████████████████████████████████| 4.7 MB 53.6 MB/s \n",
            "\u001b[K     |████████████████████████████████| 182 kB 58.4 MB/s \n",
            "\u001b[K     |████████████████████████████████| 78 kB 6.0 MB/s \n",
            "\u001b[K     |████████████████████████████████| 63 kB 1.8 MB/s \n",
            "\u001b[K     |████████████████████████████████| 51 kB 6.5 MB/s \n",
            "\u001b[?25h  Building wheel for validators (setup.py) ... \u001b[?25l\u001b[?25hdone\n"
          ]
        }
      ],
      "source": [
        "! pip install streamlit -q"
      ]
    },
    {
      "cell_type": "code",
      "source": [
        "!pip install -U segmentation-models"
      ],
      "metadata": {
        "colab": {
          "base_uri": "https://localhost:8080/"
        },
        "id": "7ZL4OvOrJfGJ",
        "outputId": "4d3f9a33-c5e4-492b-f3aa-95969cda50b4"
      },
      "execution_count": 3,
      "outputs": [
        {
          "output_type": "stream",
          "name": "stdout",
          "text": [
            "Looking in indexes: https://pypi.org/simple, https://us-python.pkg.dev/colab-wheels/public/simple/\n",
            "Collecting segmentation-models\n",
            "  Downloading segmentation_models-1.0.1-py3-none-any.whl (33 kB)\n",
            "Collecting efficientnet==1.0.0\n",
            "  Downloading efficientnet-1.0.0-py3-none-any.whl (17 kB)\n",
            "Collecting keras-applications<=1.0.8,>=1.0.7\n",
            "  Downloading Keras_Applications-1.0.8-py3-none-any.whl (50 kB)\n",
            "\u001b[K     |████████████████████████████████| 50 kB 5.6 MB/s \n",
            "\u001b[?25hCollecting image-classifiers==1.0.0\n",
            "  Downloading image_classifiers-1.0.0-py3-none-any.whl (19 kB)\n",
            "Requirement already satisfied: scikit-image in /usr/local/lib/python3.7/dist-packages (from efficientnet==1.0.0->segmentation-models) (0.18.3)\n",
            "Requirement already satisfied: numpy>=1.9.1 in /usr/local/lib/python3.7/dist-packages (from keras-applications<=1.0.8,>=1.0.7->segmentation-models) (1.21.6)\n",
            "Requirement already satisfied: h5py in /usr/local/lib/python3.7/dist-packages (from keras-applications<=1.0.8,>=1.0.7->segmentation-models) (3.1.0)\n",
            "Requirement already satisfied: cached-property in /usr/local/lib/python3.7/dist-packages (from h5py->keras-applications<=1.0.8,>=1.0.7->segmentation-models) (1.5.2)\n",
            "Requirement already satisfied: tifffile>=2019.7.26 in /usr/local/lib/python3.7/dist-packages (from scikit-image->efficientnet==1.0.0->segmentation-models) (2021.11.2)\n",
            "Requirement already satisfied: imageio>=2.3.0 in /usr/local/lib/python3.7/dist-packages (from scikit-image->efficientnet==1.0.0->segmentation-models) (2.9.0)\n",
            "Requirement already satisfied: networkx>=2.0 in /usr/local/lib/python3.7/dist-packages (from scikit-image->efficientnet==1.0.0->segmentation-models) (2.6.3)\n",
            "Requirement already satisfied: PyWavelets>=1.1.1 in /usr/local/lib/python3.7/dist-packages (from scikit-image->efficientnet==1.0.0->segmentation-models) (1.3.0)\n",
            "Requirement already satisfied: matplotlib!=3.0.0,>=2.0.0 in /usr/local/lib/python3.7/dist-packages (from scikit-image->efficientnet==1.0.0->segmentation-models) (3.2.2)\n",
            "Requirement already satisfied: pillow!=7.1.0,!=7.1.1,>=4.3.0 in /usr/local/lib/python3.7/dist-packages (from scikit-image->efficientnet==1.0.0->segmentation-models) (7.1.2)\n",
            "Requirement already satisfied: scipy>=1.0.1 in /usr/local/lib/python3.7/dist-packages (from scikit-image->efficientnet==1.0.0->segmentation-models) (1.7.3)\n",
            "Requirement already satisfied: pyparsing!=2.0.4,!=2.1.2,!=2.1.6,>=2.0.1 in /usr/local/lib/python3.7/dist-packages (from matplotlib!=3.0.0,>=2.0.0->scikit-image->efficientnet==1.0.0->segmentation-models) (3.0.9)\n",
            "Requirement already satisfied: python-dateutil>=2.1 in /usr/local/lib/python3.7/dist-packages (from matplotlib!=3.0.0,>=2.0.0->scikit-image->efficientnet==1.0.0->segmentation-models) (2.8.2)\n",
            "Requirement already satisfied: cycler>=0.10 in /usr/local/lib/python3.7/dist-packages (from matplotlib!=3.0.0,>=2.0.0->scikit-image->efficientnet==1.0.0->segmentation-models) (0.11.0)\n",
            "Requirement already satisfied: kiwisolver>=1.0.1 in /usr/local/lib/python3.7/dist-packages (from matplotlib!=3.0.0,>=2.0.0->scikit-image->efficientnet==1.0.0->segmentation-models) (1.4.4)\n",
            "Requirement already satisfied: typing-extensions in /usr/local/lib/python3.7/dist-packages (from kiwisolver>=1.0.1->matplotlib!=3.0.0,>=2.0.0->scikit-image->efficientnet==1.0.0->segmentation-models) (4.1.1)\n",
            "Requirement already satisfied: six>=1.5 in /usr/local/lib/python3.7/dist-packages (from python-dateutil>=2.1->matplotlib!=3.0.0,>=2.0.0->scikit-image->efficientnet==1.0.0->segmentation-models) (1.15.0)\n",
            "Installing collected packages: keras-applications, image-classifiers, efficientnet, segmentation-models\n",
            "Successfully installed efficientnet-1.0.0 image-classifiers-1.0.0 keras-applications-1.0.8 segmentation-models-1.0.1\n"
          ]
        }
      ]
    },
    {
      "cell_type": "code",
      "source": [
        "%%writefile app.py\n",
        "import streamlit as st\n",
        "from PIL import Image\n",
        "import tensorflow as tf\n",
        "import pandas as pd\n",
        "import numpy as np\n",
        "import segmentation_models as sm\n",
        "from segmentation_models import Unet\n",
        "\n",
        "st.title('Brain MRI Tumour Segmentation')\n",
        "mri_image = st.file_uploader(\"Upload Brain MRI Image\")\n",
        "\n",
        "if mri_image is not None:\n",
        "  img = Image.open(mri_image)\n",
        "  st.image(img)\n",
        "\n",
        "mri_mask = st.file_uploader(\"Upload Brain MRI mask\")\n",
        "\n",
        "if mri_mask is not None:\n",
        "  image_mask = Image.open(mri_mask)\n",
        "  st.image(image_mask)\n",
        "\n",
        "model = Unet('resnet34', encoder_weights='imagenet', classes=2, activation='softmax', input_shape=(256,256,3), encoder_freeze=True)\n",
        "model.load_weights(\"/content/my_best_model.epoch13-iou_score0.94.hdf5\")\n",
        "\n",
        "image = np.array(img)\n",
        "\n",
        "predicted = model.predict(image[np.newaxis,:,:,:])\n",
        "predicted = tf.argmax(predicted, axis=-1) \n",
        "predicted = tf.expand_dims(predicted, axis=-1)\n",
        "predicted = predicted[0,:,:,0]\n",
        "\n",
        "if st.button('Show predicted mask'):\n",
        "  predicted_image = Image.fromarray((np.array(predicted) * 255).astype(np.uint8))\n",
        "  st.image(predicted_image)\n",
        "\n",
        "def IoU_score(result1, result2):\n",
        "  intersection = np.logical_and(result1, result2)\n",
        "  union = np.logical_or(result1, result2)\n",
        "  iou_score = np.sum(intersection) / np.sum(union)\n",
        "  return iou_score\n",
        "\n",
        "if st.button('Calculate IoU Score'):\n",
        "  iou_score = IoU_score(predicted, image_mask)\n",
        "  st.write(iou_score)"
      ],
      "metadata": {
        "colab": {
          "base_uri": "https://localhost:8080/"
        },
        "id": "gHIQVUl9Eghq",
        "outputId": "41cde2d6-3179-4f71-d0c1-3742f2b37042"
      },
      "execution_count": 41,
      "outputs": [
        {
          "output_type": "stream",
          "name": "stdout",
          "text": [
            "Overwriting app.py\n"
          ]
        }
      ]
    },
    {
      "cell_type": "code",
      "source": [
        "! pip install pyngrok"
      ],
      "metadata": {
        "colab": {
          "base_uri": "https://localhost:8080/"
        },
        "id": "oSINvYHerCrr",
        "outputId": "377515e4-9db5-4982-dc4c-f3b8250ef87e"
      },
      "execution_count": 5,
      "outputs": [
        {
          "output_type": "stream",
          "name": "stdout",
          "text": [
            "Looking in indexes: https://pypi.org/simple, https://us-python.pkg.dev/colab-wheels/public/simple/\n",
            "Collecting pyngrok\n",
            "  Downloading pyngrok-5.1.0.tar.gz (745 kB)\n",
            "\u001b[K     |████████████████████████████████| 745 kB 4.0 MB/s \n",
            "\u001b[?25hRequirement already satisfied: PyYAML in /usr/local/lib/python3.7/dist-packages (from pyngrok) (6.0)\n",
            "Building wheels for collected packages: pyngrok\n",
            "  Building wheel for pyngrok (setup.py) ... \u001b[?25l\u001b[?25hdone\n",
            "  Created wheel for pyngrok: filename=pyngrok-5.1.0-py3-none-any.whl size=19007 sha256=a1b35403ef4e6ab176cc9c6e505c4332ebc595aa05b3515691cd3dbb6357dc7c\n",
            "  Stored in directory: /root/.cache/pip/wheels/bf/e6/af/ccf6598ecefecd44104069371795cb9b3afbcd16987f6ccfb3\n",
            "Successfully built pyngrok\n",
            "Installing collected packages: pyngrok\n",
            "Successfully installed pyngrok-5.1.0\n"
          ]
        }
      ]
    },
    {
      "cell_type": "code",
      "source": [
        "from pyngrok import ngrok"
      ],
      "metadata": {
        "id": "8EFfvr1qrJuw"
      },
      "execution_count": 6,
      "outputs": []
    },
    {
      "cell_type": "code",
      "source": [
        "ngrok.set_auth_token(\"2HXYKUee4tg5l6GplNTUcOzBCDV_5ZNgzcpbKECd7RVo8CWRN\")"
      ],
      "metadata": {
        "colab": {
          "base_uri": "https://localhost:8080/"
        },
        "id": "GiZxIxU6rZWL",
        "outputId": "eb0787c2-7728-4075-f69e-dd9c12bdc2c0"
      },
      "execution_count": 7,
      "outputs": [
        {
          "output_type": "stream",
          "name": "stdout",
          "text": []
        }
      ]
    },
    {
      "cell_type": "code",
      "source": [
        "!nohup streamlit run app.py --server.port 80 &\n",
        "url = ngrok.connect(port = '80')\n",
        "print(url)"
      ],
      "metadata": {
        "colab": {
          "base_uri": "https://localhost:8080/"
        },
        "id": "pk3S3TqyrZTv",
        "outputId": "80a29dff-e6a1-433b-ec3b-9adb0cfd734a"
      },
      "execution_count": 8,
      "outputs": [
        {
          "output_type": "stream",
          "name": "stdout",
          "text": [
            "nohup: appending output to 'nohup.out'\n",
            "NgrokTunnel: \"http://7827-35-229-143-127.ngrok.io\" -> \"http://localhost:80\"\n"
          ]
        }
      ]
    }
  ]
}